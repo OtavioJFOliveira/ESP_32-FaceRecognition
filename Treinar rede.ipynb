{
 "cells": [
  {
   "cell_type": "code",
   "execution_count": 1,
   "metadata": {},
   "outputs": [],
   "source": [
    "import numpy as np\n",
    "import pandas as pd\n",
    "import matplotlib.pyplot as pl\n",
    "%matplotlib inline"
   ]
  },
  {
   "cell_type": "code",
   "execution_count": 2,
   "metadata": {},
   "outputs": [],
   "source": [
    "df_desconhecidos = pd.read_csv(\"faces_desconhecidos.csv\")"
   ]
  },
  {
   "cell_type": "code",
   "execution_count": 3,
   "metadata": {},
   "outputs": [],
   "source": [
    "df_conhecidos = pd.read_csv(\"faces.csv\")"
   ]
  },
  {
   "cell_type": "code",
   "execution_count": 4,
   "metadata": {},
   "outputs": [],
   "source": [
    "df = pd.concat([df_desconhecidos, df_conhecidos])"
   ]
  },
  {
   "cell_type": "code",
   "execution_count": 5,
   "metadata": {},
   "outputs": [],
   "source": [
    "#df"
   ]
  },
  {
   "cell_type": "code",
   "execution_count": 6,
   "metadata": {},
   "outputs": [],
   "source": [
    "X = np.array(df.drop(\"target\", axis=1))\n",
    "y = np.array(df.target)"
   ]
  },
  {
   "cell_type": "code",
   "execution_count": 7,
   "metadata": {},
   "outputs": [],
   "source": [
    "X = np.array(df.drop(\"target\", axis=1))\n",
    "y = np.array(df.target)"
   ]
  },
  {
   "cell_type": "markdown",
   "metadata": {},
   "source": [
    "## MISTURANDO TUDO"
   ]
  },
  {
   "cell_type": "code",
   "execution_count": 8,
   "metadata": {},
   "outputs": [],
   "source": [
    "from sklearn.utils import shuffle"
   ]
  },
  {
   "cell_type": "code",
   "execution_count": 9,
   "metadata": {},
   "outputs": [],
   "source": [
    "X, y = shuffle(X, y, random_state=0)"
   ]
  },
  {
   "cell_type": "markdown",
   "metadata": {},
   "source": [
    "## SPLIT DATASET"
   ]
  },
  {
   "cell_type": "code",
   "execution_count": 10,
   "metadata": {},
   "outputs": [],
   "source": [
    "from sklearn.model_selection import train_test_split"
   ]
  },
  {
   "cell_type": "code",
   "execution_count": 11,
   "metadata": {},
   "outputs": [],
   "source": [
    "trainX, valx, trainY, valY = train_test_split(X, y, test_size=0.10, random_state=42)"
   ]
  },
  {
   "cell_type": "markdown",
   "metadata": {},
   "source": [
    "## NORMALIZANDO"
   ]
  },
  {
   "cell_type": "code",
   "execution_count": 12,
   "metadata": {},
   "outputs": [],
   "source": [
    "from sklearn.preprocessing import Normalizer"
   ]
  },
  {
   "cell_type": "code",
   "execution_count": 13,
   "metadata": {},
   "outputs": [],
   "source": [
    "norm = Normalizer(norm=\"l2\")\n",
    "tarinX = norm.transform(trainX)\n",
    "valx = norm.transform(valx)"
   ]
  },
  {
   "cell_type": "markdown",
   "metadata": {},
   "source": [
    "## TRATANDO LABELS"
   ]
  },
  {
   "cell_type": "code",
   "execution_count": 14,
   "metadata": {},
   "outputs": [],
   "source": [
    "from sklearn.preprocessing import LabelEncoder"
   ]
  },
  {
   "cell_type": "code",
   "execution_count": 15,
   "metadata": {},
   "outputs": [
    {
     "data": {
      "text/plain": [
       "array(['Iasmin', 'Ilana', 'Otavio', 'desconhecidos'], dtype=object)"
      ]
     },
     "execution_count": 15,
     "metadata": {},
     "output_type": "execute_result"
    }
   ],
   "source": [
    "np.unique(trainY)"
   ]
  },
  {
   "cell_type": "code",
   "execution_count": 16,
   "metadata": {},
   "outputs": [
    {
     "data": {
      "text/plain": [
       "4"
      ]
     },
     "execution_count": 16,
     "metadata": {},
     "output_type": "execute_result"
    }
   ],
   "source": [
    "classes = len(np.unique(trainY))\n",
    "classes"
   ]
  },
  {
   "cell_type": "markdown",
   "metadata": {},
   "source": [
    "## DISCRETIZAR"
   ]
  },
  {
   "cell_type": "code",
   "execution_count": 17,
   "metadata": {},
   "outputs": [
    {
     "data": {
      "text/plain": [
       "array([0, 1, 2, 3])"
      ]
     },
     "execution_count": 17,
     "metadata": {},
     "output_type": "execute_result"
    }
   ],
   "source": [
    "out_encoder = LabelEncoder()\n",
    "out_encoder.fit(trainY)\n",
    "trainY = out_encoder.transform(trainY)\n",
    "np.unique(trainY)"
   ]
  },
  {
   "cell_type": "code",
   "execution_count": 18,
   "metadata": {},
   "outputs": [
    {
     "data": {
      "text/plain": [
       "array([0, 1, 2, 3])"
      ]
     },
     "execution_count": 18,
     "metadata": {},
     "output_type": "execute_result"
    }
   ],
   "source": [
    "out_encoder = LabelEncoder()\n",
    "out_encoder.fit(valY)\n",
    "valY = out_encoder.transform(valY)\n",
    "np.unique(valY)"
   ]
  },
  {
   "cell_type": "markdown",
   "metadata": {},
   "source": [
    "## USANDO KERAS"
   ]
  },
  {
   "cell_type": "code",
   "execution_count": 19,
   "metadata": {},
   "outputs": [],
   "source": [
    "from tensorflow.keras.utils import to_categorical\n",
    "trainY = to_categorical(trainY)\n",
    "valY   = to_categorical(valY)"
   ]
  },
  {
   "cell_type": "code",
   "execution_count": 20,
   "metadata": {},
   "outputs": [
    {
     "name": "stdout",
     "output_type": "stream",
     "text": [
      "[0. 0. 0. 1.]\n",
      "[0. 0. 0. 1.]\n"
     ]
    }
   ],
   "source": [
    "print(valY[0])\n",
    "print(trainY[0])"
   ]
  },
  {
   "cell_type": "code",
   "execution_count": 21,
   "metadata": {},
   "outputs": [],
   "source": [
    "from tensorflow.keras import models\n",
    "from tensorflow.keras import layers"
   ]
  },
  {
   "cell_type": "code",
   "execution_count": 22,
   "metadata": {},
   "outputs": [
    {
     "name": "stdout",
     "output_type": "stream",
     "text": [
      "Model: \"sequential\"\n",
      "_________________________________________________________________\n",
      "Layer (type)                 Output Shape              Param #   \n",
      "=================================================================\n",
      "dense (Dense)                (None, 128)               16512     \n",
      "_________________________________________________________________\n",
      "dropout (Dropout)            (None, 128)               0         \n",
      "_________________________________________________________________\n",
      "dense_1 (Dense)              (None, 4)                 516       \n",
      "=================================================================\n",
      "Total params: 17,028\n",
      "Trainable params: 17,028\n",
      "Non-trainable params: 0\n",
      "_________________________________________________________________\n"
     ]
    }
   ],
   "source": [
    "model = models.Sequential()\n",
    "model.add(layers.Dense(128, activation='relu', input_shape=(128,)))\n",
    "model.add(layers.Dropout(0.5))\n",
    "model.add(layers.Dense(classes, activation='softmax'))\n",
    "\n",
    "model.summary()\n",
    "\n"
   ]
  },
  {
   "cell_type": "code",
   "execution_count": 23,
   "metadata": {},
   "outputs": [],
   "source": [
    "model.compile(optimizer='adam',\n",
    "             loss='categorical_crossentropy',\n",
    "             metrics=['accuracy'])"
   ]
  },
  {
   "cell_type": "code",
   "execution_count": 24,
   "metadata": {
    "scrolled": true
   },
   "outputs": [
    {
     "name": "stdout",
     "output_type": "stream",
     "text": [
      "Epoch 1/40\n",
      "3498/3498 [==============================] - 4s 1ms/step - loss: 0.0446 - accuracy: 0.9858 - val_loss: 0.2736 - val_accuracy: 0.9582\n",
      "Epoch 2/40\n",
      "3498/3498 [==============================] - 4s 1ms/step - loss: 0.0198 - accuracy: 0.9920 - val_loss: 0.1987 - val_accuracy: 0.9801\n",
      "Epoch 3/40\n",
      "3498/3498 [==============================] - 4s 1ms/step - loss: 0.0148 - accuracy: 0.9945 - val_loss: 0.1458 - val_accuracy: 0.9846\n",
      "Epoch 4/40\n",
      "3498/3498 [==============================] - 3s 971us/step - loss: 0.0130 - accuracy: 0.9950 - val_loss: 0.1238 - val_accuracy: 0.9858\n",
      "Epoch 5/40\n",
      "3498/3498 [==============================] - 4s 1ms/step - loss: 0.0121 - accuracy: 0.9960 - val_loss: 0.1303 - val_accuracy: 0.9949\n",
      "Epoch 6/40\n",
      "3498/3498 [==============================] - 4s 1ms/step - loss: 0.0109 - accuracy: 0.9959 - val_loss: 0.1289 - val_accuracy: 0.9961\n",
      "Epoch 7/40\n",
      "3498/3498 [==============================] - 5s 1ms/step - loss: 0.0100 - accuracy: 0.9965 - val_loss: 0.1126 - val_accuracy: 0.9942\n",
      "Epoch 8/40\n",
      "3498/3498 [==============================] - 4s 1ms/step - loss: 0.0078 - accuracy: 0.9968 - val_loss: 0.0932 - val_accuracy: 0.9942\n",
      "Epoch 9/40\n",
      "3498/3498 [==============================] - 4s 1ms/step - loss: 0.0080 - accuracy: 0.9973 - val_loss: 0.0961 - val_accuracy: 0.9971\n",
      "Epoch 10/40\n",
      "3498/3498 [==============================] - 4s 1ms/step - loss: 0.0085 - accuracy: 0.9971 - val_loss: 0.1087 - val_accuracy: 0.9961\n",
      "Epoch 11/40\n",
      "3498/3498 [==============================] - 4s 1ms/step - loss: 0.0067 - accuracy: 0.9975 - val_loss: 0.0742 - val_accuracy: 0.9958\n",
      "Epoch 12/40\n",
      "3498/3498 [==============================] - 4s 1ms/step - loss: 0.0072 - accuracy: 0.9973 - val_loss: 0.0783 - val_accuracy: 0.9984\n",
      "Epoch 13/40\n",
      "3498/3498 [==============================] - 4s 1ms/step - loss: 0.0063 - accuracy: 0.9980 - val_loss: 0.0717 - val_accuracy: 0.9984\n",
      "Epoch 14/40\n",
      "3498/3498 [==============================] - 4s 1ms/step - loss: 0.0073 - accuracy: 0.9975 - val_loss: 0.0776 - val_accuracy: 0.9981\n",
      "Epoch 15/40\n",
      "3498/3498 [==============================] - 4s 1ms/step - loss: 0.0060 - accuracy: 0.9981 - val_loss: 0.0859 - val_accuracy: 0.9904\n",
      "Epoch 16/40\n",
      "3498/3498 [==============================] - 4s 1ms/step - loss: 0.0065 - accuracy: 0.9978 - val_loss: 0.0764 - val_accuracy: 0.9932\n",
      "Epoch 17/40\n",
      "3498/3498 [==============================] - 4s 1ms/step - loss: 0.0069 - accuracy: 0.9978 - val_loss: 0.0718 - val_accuracy: 0.9916\n",
      "Epoch 18/40\n",
      "3498/3498 [==============================] - 4s 1ms/step - loss: 0.0050 - accuracy: 0.9985 - val_loss: 0.0655 - val_accuracy: 0.9949\n",
      "Epoch 19/40\n",
      "3498/3498 [==============================] - 4s 1ms/step - loss: 0.0045 - accuracy: 0.9984 - val_loss: 0.0754 - val_accuracy: 0.9904\n",
      "Epoch 20/40\n",
      "3498/3498 [==============================] - 3s 993us/step - loss: 0.0056 - accuracy: 0.9985 - val_loss: 0.0620 - val_accuracy: 0.9965\n",
      "Epoch 21/40\n",
      "3498/3498 [==============================] - 4s 1ms/step - loss: 0.0064 - accuracy: 0.9979 - val_loss: 0.0623 - val_accuracy: 0.9945\n",
      "Epoch 22/40\n",
      "3498/3498 [==============================] - 4s 1ms/step - loss: 0.0044 - accuracy: 0.9983 - val_loss: 0.0589 - val_accuracy: 0.9923\n",
      "Epoch 23/40\n",
      "3498/3498 [==============================] - 4s 1ms/step - loss: 0.0047 - accuracy: 0.9985 - val_loss: 0.0607 - val_accuracy: 0.9936\n",
      "Epoch 24/40\n",
      "3498/3498 [==============================] - 4s 1ms/step - loss: 0.0036 - accuracy: 0.9989 - val_loss: 0.0490 - val_accuracy: 0.9965\n",
      "Epoch 25/40\n",
      "3498/3498 [==============================] - 4s 1ms/step - loss: 0.0047 - accuracy: 0.9985 - val_loss: 0.0507 - val_accuracy: 0.9932\n",
      "Epoch 26/40\n",
      "3498/3498 [==============================] - 4s 1ms/step - loss: 0.0058 - accuracy: 0.9985 - val_loss: 0.0556 - val_accuracy: 0.9913\n",
      "Epoch 27/40\n",
      "3498/3498 [==============================] - 4s 1ms/step - loss: 0.0046 - accuracy: 0.9987 - val_loss: 0.0548 - val_accuracy: 0.9936\n",
      "Epoch 28/40\n",
      "3498/3498 [==============================] - 5s 2ms/step - loss: 0.0038 - accuracy: 0.9986 - val_loss: 0.0530 - val_accuracy: 0.9936\n",
      "Epoch 29/40\n",
      "3498/3498 [==============================] - 4s 1ms/step - loss: 0.0042 - accuracy: 0.9987 - val_loss: 0.0543 - val_accuracy: 0.9926\n",
      "Epoch 30/40\n",
      "3498/3498 [==============================] - 4s 1ms/step - loss: 0.0036 - accuracy: 0.9987 - val_loss: 0.0519 - val_accuracy: 0.9907\n",
      "Epoch 31/40\n",
      "3498/3498 [==============================] - 4s 1ms/step - loss: 0.0045 - accuracy: 0.9986 - val_loss: 0.0576 - val_accuracy: 0.9884\n",
      "Epoch 32/40\n",
      "3498/3498 [==============================] - 3s 978us/step - loss: 0.0028 - accuracy: 0.9990 - val_loss: 0.0613 - val_accuracy: 0.9871\n",
      "Epoch 33/40\n",
      "3498/3498 [==============================] - 5s 1ms/step - loss: 0.0039 - accuracy: 0.9989 - val_loss: 0.0606 - val_accuracy: 0.9881\n",
      "Epoch 34/40\n",
      "3498/3498 [==============================] - 4s 1ms/step - loss: 0.0037 - accuracy: 0.9989 - val_loss: 0.0552 - val_accuracy: 0.9897\n",
      "Epoch 35/40\n",
      "3498/3498 [==============================] - 4s 1ms/step - loss: 0.0029 - accuracy: 0.9990 - val_loss: 0.0573 - val_accuracy: 0.9858\n",
      "Epoch 36/40\n",
      "3498/3498 [==============================] - 5s 1ms/step - loss: 0.0033 - accuracy: 0.9991 - val_loss: 0.0532 - val_accuracy: 0.9894\n",
      "Epoch 37/40\n",
      "3498/3498 [==============================] - 5s 1ms/step - loss: 0.0043 - accuracy: 0.9986 - val_loss: 0.0426 - val_accuracy: 0.9926\n",
      "Epoch 38/40\n",
      "3498/3498 [==============================] - 5s 1ms/step - loss: 0.0027 - accuracy: 0.9992 - val_loss: 0.0484 - val_accuracy: 0.9907\n",
      "Epoch 39/40\n",
      "3498/3498 [==============================] - 5s 1ms/step - loss: 0.0042 - accuracy: 0.9989 - val_loss: 0.0407 - val_accuracy: 0.9907\n",
      "Epoch 40/40\n",
      "3498/3498 [==============================] - 6s 2ms/step - loss: 0.0027 - accuracy: 0.9991 - val_loss: 0.0476 - val_accuracy: 0.9868\n"
     ]
    }
   ],
   "source": [
    "batch_size=8 # quantidade de dados que pega pra treinar\n",
    "epochs=40\n",
    "\n",
    "history = model.fit(trainX, trainY, \n",
    "                    epochs=epochs, \n",
    "                    validation_data = (valx,valY), \n",
    "                    batch_size=batch_size)"
   ]
  },
  {
   "cell_type": "code",
   "execution_count": 25,
   "metadata": {},
   "outputs": [],
   "source": [
    "import matplotlib.pyplot as plt\n",
    "%matplotlib inline"
   ]
  },
  {
   "cell_type": "code",
   "execution_count": 26,
   "metadata": {},
   "outputs": [
    {
     "data": {
      "image/png": "[encoded data removed]",
      "text/plain": [
       "<Figure size 432x288 with 1 Axes>"
      ]
     },
     "metadata": {
      "needs_background": "light"
     },
     "output_type": "display_data"
    },
    {
     "data": {
      "image/png": "[encoded data removed]",
      "text/plain": [
       "<Figure size 432x288 with 1 Axes>"
      ]
     },
     "metadata": {
      "needs_background": "light"
     },
     "output_type": "display_data"
    }
   ],
   "source": [
    "plt.plot(history.history['accuracy'])\n",
    "plt.plot(history.history['val_accuracy'])\n",
    "plt.title('model accuracy')\n",
    "plt.ylabel('accuracy')\n",
    "plt.xlabel('epoch')\n",
    "plt.legend(['train','test'], loc='upper left')\n",
    "plt.show()\n",
    "# SUMMARIZE HISTORY FOR LOSS\n",
    "plt.plot(history.history['loss'])\n",
    "plt.plot(history.history['val_loss'])\n",
    "plt.title('model loss')\n",
    "plt.ylabel('loss')\n",
    "plt.xlabel('epoch')\n",
    "plt.legend(['train','test'], loc='upper left')\n",
    "plt.show()\n",
    "\n",
    "\n"
   ]
  },
  {
   "cell_type": "code",
   "execution_count": 27,
   "metadata": {},
   "outputs": [
    {
     "name": "stdout",
     "output_type": "stream",
     "text": [
      "98/98 [==============================] - 0s 752us/step - loss: 0.0476 - accuracy: 0.9868\n"
     ]
    }
   ],
   "source": [
    "val_loss, val_acc = model.evaluate(valx, valY)"
   ]
  },
  {
   "cell_type": "code",
   "execution_count": 28,
   "metadata": {},
   "outputs": [],
   "source": [
    "yhat_val = model.predict(valx)"
   ]
  },
  {
   "cell_type": "code",
   "execution_count": 29,
   "metadata": {
    "scrolled": true
   },
   "outputs": [
    {
     "name": "stdout",
     "output_type": "stream",
     "text": [
      "3\n",
      "3\n"
     ]
    }
   ],
   "source": [
    "valY2 = np.argmax(valY, axis = 1)\n",
    "yhat_val = np.argmax(yhat_val, axis = 1)\n",
    "\n",
    "print(valY2[0])\n",
    "print(yhat_val[0])"
   ]
  },
  {
   "cell_type": "code",
   "execution_count": 30,
   "metadata": {},
   "outputs": [],
   "source": [
    "from sklearn.metrics import confusion_matrix\n",
    "\n",
    "def print_confusion_matrix(model_name, valY, yhat_val):\n",
    "    \n",
    "    cm = confusion_matrix(valY, yhat_val)\n",
    "    total = sum(sum(cm))\n",
    "    acc = (cm[0,0] + cm[1,1]) / total\n",
    "    sensitivity = cm[0,0] / (cm[0,0] + cm[0,1])\n",
    "    specificity = cm[1,1] / (cm[1,0] + cm[1,1])\n",
    "    \n",
    "    print(\"Modelo: {}\".format(model_name))\n",
    "    print(\"Acuracia: {:.4f}\".format(acc))\n",
    "    print(\"Sensitividade: {:.4f}\".format(sensitivity))\n",
    "    print(\"Especificidade: {:.4f}\".format(specificity))\n",
    "    \n",
    "    from mlxtend.plotting import plot_confusion_matrix\n",
    "    fig, ax = plot_confusion_matrix(conf_mat=cm, figsize=(5,5))\n",
    "    plt.show()"
   ]
  },
  {
   "cell_type": "code",
   "execution_count": 31,
   "metadata": {},
   "outputs": [
    {
     "name": "stdout",
     "output_type": "stream",
     "text": [
      "Modelo: KERAS\n",
      "Acuracia: 0.0222\n",
      "Sensitividade: 0.7407\n",
      "Especificidade: 0.9800\n"
     ]
    },
    {
     "data": {
      "image/png": "[encoded data removed]",
      "text/plain": [
       "<Figure size 360x360 with 1 Axes>"
      ]
     },
     "metadata": {
      "needs_background": "light"
     },
     "output_type": "display_data"
    }
   ],
   "source": [
    "print_confusion_matrix(\"KERAS\", valY2, yhat_val)"
   ]
  },
  {
   "cell_type": "code",
   "execution_count": 32,
   "metadata": {},
   "outputs": [],
   "source": [
    "#model.save(\"faces_ComGiro60-8batch.h5\")"
   ]
  },
  {
   "cell_type": "code",
   "execution_count": null,
   "metadata": {},
   "outputs": [],
   "source": []
  },
  {
   "cell_type": "code",
   "execution_count": null,
   "metadata": {},
   "outputs": [],
   "source": []
  },
  {
   "cell_type": "code",
   "execution_count": null,
   "metadata": {},
   "outputs": [],
   "source": []
  }
 ],
 "metadata": {
  "kernelspec": {
   "display_name": "Python 3",
   "language": "python",
   "name": "python3"
  },
  "language_info": {
   "codemirror_mode": {
    "name": "ipython",
    "version": 3
   },
   "file_extension": ".py",
   "mimetype": "text/x-python",
   "name": "python",
   "nbconvert_exporter": "python",
   "pygments_lexer": "ipython3",
   "version": "3.8.3"
  }
 },
 "nbformat": 4,
 "nbformat_minor": 4
}
